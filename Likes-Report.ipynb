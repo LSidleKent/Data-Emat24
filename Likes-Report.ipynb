{
 "cells": [
  {
   "cell_type": "markdown",
   "id": "b05752c5-a188-4a09-ae9a-da4f1af7b775",
   "metadata": {},
   "source": [
    "Luke Sidle\n",
    "9/12/24\n",
    "Likes Report: Likes Compared to Follows\n",
    "\n",
    "The Data I used in this report came from my Instagram account. I used the likes and quantified them by most liked. I then found my first 30 followed accounts and compared their data in my hypothesis.\n"
   ]
  },
  {
   "cell_type": "markdown",
   "id": "8f260a21-3c36-40bc-b12e-40b37bc03b25",
   "metadata": {},
   "source": [
    "\n",
    "    Who or what is the source of your personal Instagram data? (you downloaded the data, but did you create it?) \n",
    "        The source of my Instagram data is from all the posts I have liked\n",
    "    Why was this data created and what purposes can the data serve?\n",
    "        This data was created because I liked various posts on Instagram. It can be used to see what I want and what advertisers they should give me.\n",
    "    In what ways may this data be reliable?\n",
    "        It is curated by me personally, so it is an accurate depiction of my interests\n",
    "    In what ways may this data be unreliable?\n",
    "        Instagram still has an algorithm so their algorithm could have missed something I enjoy."
   ]
  },
  {
   "cell_type": "code",
   "execution_count": 5,
   "id": "61dc31e3-27aa-42ef-93a6-3a09f8a2832b",
   "metadata": {},
   "outputs": [],
   "source": [
    "import json\n",
    "import pandas as pd\n",
    "import matplotlib as pit"
   ]
  },
  {
   "cell_type": "code",
   "execution_count": 6,
   "id": "105a26bc-117b-4ed7-9096-88e68391866a",
   "metadata": {},
   "outputs": [],
   "source": [
    "path = r\"C:\\Users\\datgu\\OneDrive\\Desktop\\instagram-lukesidle-2024-08-27-pYfaJOJZ\\your_instagram_activity\\likes\\liked_posts.json\"\n",
    "with open (path)as j:\n",
    "    likes = json.load(j)"
   ]
  },
  {
   "cell_type": "code",
   "execution_count": 7,
   "id": "774239bc-e4bc-4a81-82ff-173546a39c74",
   "metadata": {},
   "outputs": [
    {
     "data": {
      "text/plain": [
       "dict_keys(['likes_media_likes'])"
      ]
     },
     "execution_count": 7,
     "metadata": {},
     "output_type": "execute_result"
    }
   ],
   "source": [
    "likes.keys()"
   ]
  },
  {
   "cell_type": "code",
   "execution_count": 8,
   "id": "2931df87-7f5a-4cb1-97c5-e02c60946703",
   "metadata": {},
   "outputs": [
    {
     "data": {
      "text/html": [
       "<div>\n",
       "<style scoped>\n",
       "    .dataframe tbody tr th:only-of-type {\n",
       "        vertical-align: middle;\n",
       "    }\n",
       "\n",
       "    .dataframe tbody tr th {\n",
       "        vertical-align: top;\n",
       "    }\n",
       "\n",
       "    .dataframe thead th {\n",
       "        text-align: right;\n",
       "    }\n",
       "</style>\n",
       "<table border=\"1\" class=\"dataframe\">\n",
       "  <thead>\n",
       "    <tr style=\"text-align: right;\">\n",
       "      <th></th>\n",
       "      <th>title</th>\n",
       "      <th>string_list_data</th>\n",
       "    </tr>\n",
       "  </thead>\n",
       "  <tbody>\n",
       "    <tr>\n",
       "      <th>0</th>\n",
       "      <td>leviatangg</td>\n",
       "      <td>[{'href': 'https://www.instagram.com/p/C-8LGiK...</td>\n",
       "    </tr>\n",
       "    <tr>\n",
       "      <th>1</th>\n",
       "      <td>howitfeelstochewfivegum</td>\n",
       "      <td>[{'href': 'https://www.instagram.com/p/C_Gbown...</td>\n",
       "    </tr>\n",
       "    <tr>\n",
       "      <th>2</th>\n",
       "      <td>the.paragonproject</td>\n",
       "      <td>[{'href': 'https://www.instagram.com/reel/C89q...</td>\n",
       "    </tr>\n",
       "    <tr>\n",
       "      <th>3</th>\n",
       "      <td>golden_frog_inn</td>\n",
       "      <td>[{'href': 'https://www.instagram.com/reel/C-lQ...</td>\n",
       "    </tr>\n",
       "    <tr>\n",
       "      <th>4</th>\n",
       "      <td>sonicsta</td>\n",
       "      <td>[{'href': 'https://www.instagram.com/reel/C-76...</td>\n",
       "    </tr>\n",
       "  </tbody>\n",
       "</table>\n",
       "</div>"
      ],
      "text/plain": [
       "                     title                                   string_list_data\n",
       "0               leviatangg  [{'href': 'https://www.instagram.com/p/C-8LGiK...\n",
       "1  howitfeelstochewfivegum  [{'href': 'https://www.instagram.com/p/C_Gbown...\n",
       "2       the.paragonproject  [{'href': 'https://www.instagram.com/reel/C89q...\n",
       "3          golden_frog_inn  [{'href': 'https://www.instagram.com/reel/C-lQ...\n",
       "4                 sonicsta  [{'href': 'https://www.instagram.com/reel/C-76..."
      ]
     },
     "execution_count": 8,
     "metadata": {},
     "output_type": "execute_result"
    }
   ],
   "source": [
    "likes_df = pd.DataFrame(likes['likes_media_likes'])\n",
    "likes_df.head()"
   ]
  },
  {
   "cell_type": "code",
   "execution_count": 9,
   "id": "1e8134d3-4718-4e04-af66-774c4ee9df1a",
   "metadata": {},
   "outputs": [
    {
     "data": {
      "text/plain": [
       "1724651069"
      ]
     },
     "execution_count": 9,
     "metadata": {},
     "output_type": "execute_result"
    }
   ],
   "source": [
    "likes_df['string_list_data'].iloc[0][0]['timestamp']"
   ]
  },
  {
   "cell_type": "code",
   "execution_count": 10,
   "id": "78053437-6c24-4d35-87cf-610b43cb4417",
   "metadata": {},
   "outputs": [],
   "source": [
    "likes_df['time of like'] = [x[0]['timestamp'] for x in likes_df['string_list_data']]"
   ]
  },
  {
   "cell_type": "code",
   "execution_count": 11,
   "id": "2661d620-1597-4c0c-96d9-91fc222e96f9",
   "metadata": {},
   "outputs": [],
   "source": [
    "likes_df2 = pd.DataFrame([x[0] for x in likes_df['string_list_data']])"
   ]
  },
  {
   "cell_type": "code",
   "execution_count": 12,
   "id": "670186c2-e789-4858-b345-55fb0bcc5dc3",
   "metadata": {},
   "outputs": [
    {
     "data": {
      "text/html": [
       "<div>\n",
       "<style scoped>\n",
       "    .dataframe tbody tr th:only-of-type {\n",
       "        vertical-align: middle;\n",
       "    }\n",
       "\n",
       "    .dataframe tbody tr th {\n",
       "        vertical-align: top;\n",
       "    }\n",
       "\n",
       "    .dataframe thead th {\n",
       "        text-align: right;\n",
       "    }\n",
       "</style>\n",
       "<table border=\"1\" class=\"dataframe\">\n",
       "  <thead>\n",
       "    <tr style=\"text-align: right;\">\n",
       "      <th></th>\n",
       "      <th>href</th>\n",
       "      <th>value</th>\n",
       "      <th>timestamp</th>\n",
       "      <th>title</th>\n",
       "    </tr>\n",
       "  </thead>\n",
       "  <tbody>\n",
       "    <tr>\n",
       "      <th>0</th>\n",
       "      <td>https://www.instagram.com/p/C-8LGiKvg7d/</td>\n",
       "      <td>ð</td>\n",
       "      <td>1724651069</td>\n",
       "      <td>leviatangg</td>\n",
       "    </tr>\n",
       "    <tr>\n",
       "      <th>1</th>\n",
       "      <td>https://www.instagram.com/p/C_GbownvXdg/</td>\n",
       "      <td>ð</td>\n",
       "      <td>1724651060</td>\n",
       "      <td>howitfeelstochewfivegum</td>\n",
       "    </tr>\n",
       "    <tr>\n",
       "      <th>2</th>\n",
       "      <td>https://www.instagram.com/reel/C89qEGBPLTX/</td>\n",
       "      <td>ð</td>\n",
       "      <td>1724650925</td>\n",
       "      <td>the.paragonproject</td>\n",
       "    </tr>\n",
       "    <tr>\n",
       "      <th>3</th>\n",
       "      <td>https://www.instagram.com/reel/C-lQM6goAZq/</td>\n",
       "      <td>ð</td>\n",
       "      <td>1724650868</td>\n",
       "      <td>golden_frog_inn</td>\n",
       "    </tr>\n",
       "    <tr>\n",
       "      <th>4</th>\n",
       "      <td>https://www.instagram.com/reel/C-76MVbRdMq/</td>\n",
       "      <td>ð</td>\n",
       "      <td>1724650860</td>\n",
       "      <td>sonicsta</td>\n",
       "    </tr>\n",
       "  </tbody>\n",
       "</table>\n",
       "</div>"
      ],
      "text/plain": [
       "                                          href value   timestamp  \\\n",
       "0     https://www.instagram.com/p/C-8LGiKvg7d/  ð  1724651069   \n",
       "1     https://www.instagram.com/p/C_GbownvXdg/  ð  1724651060   \n",
       "2  https://www.instagram.com/reel/C89qEGBPLTX/  ð  1724650925   \n",
       "3  https://www.instagram.com/reel/C-lQM6goAZq/  ð  1724650868   \n",
       "4  https://www.instagram.com/reel/C-76MVbRdMq/  ð  1724650860   \n",
       "\n",
       "                     title  \n",
       "0               leviatangg  \n",
       "1  howitfeelstochewfivegum  \n",
       "2       the.paragonproject  \n",
       "3          golden_frog_inn  \n",
       "4                 sonicsta  "
      ]
     },
     "execution_count": 12,
     "metadata": {},
     "output_type": "execute_result"
    }
   ],
   "source": [
    "likes_df2['title'] = likes_df['title']\n",
    "likes_df2.head()"
   ]
  },
  {
   "cell_type": "code",
   "execution_count": 13,
   "id": "9bf397e5-ac88-4f9b-b7e7-dbeb10e6f9fc",
   "metadata": {},
   "outputs": [],
   "source": [
    "likes_df_tidy = likes_df.drop(columns = ['string_list_data'])"
   ]
  },
  {
   "cell_type": "code",
   "execution_count": 14,
   "id": "6d9db388-75a5-4a4e-ae18-d1fd38180efc",
   "metadata": {},
   "outputs": [
    {
     "data": {
      "text/html": [
       "<div>\n",
       "<style scoped>\n",
       "    .dataframe tbody tr th:only-of-type {\n",
       "        vertical-align: middle;\n",
       "    }\n",
       "\n",
       "    .dataframe tbody tr th {\n",
       "        vertical-align: top;\n",
       "    }\n",
       "\n",
       "    .dataframe thead th {\n",
       "        text-align: right;\n",
       "    }\n",
       "</style>\n",
       "<table border=\"1\" class=\"dataframe\">\n",
       "  <thead>\n",
       "    <tr style=\"text-align: right;\">\n",
       "      <th></th>\n",
       "      <th>title</th>\n",
       "      <th>time of like</th>\n",
       "    </tr>\n",
       "  </thead>\n",
       "  <tbody>\n",
       "    <tr>\n",
       "      <th>0</th>\n",
       "      <td>leviatangg</td>\n",
       "      <td>1724651069</td>\n",
       "    </tr>\n",
       "    <tr>\n",
       "      <th>1</th>\n",
       "      <td>howitfeelstochewfivegum</td>\n",
       "      <td>1724651060</td>\n",
       "    </tr>\n",
       "    <tr>\n",
       "      <th>2</th>\n",
       "      <td>the.paragonproject</td>\n",
       "      <td>1724650925</td>\n",
       "    </tr>\n",
       "    <tr>\n",
       "      <th>3</th>\n",
       "      <td>golden_frog_inn</td>\n",
       "      <td>1724650868</td>\n",
       "    </tr>\n",
       "    <tr>\n",
       "      <th>4</th>\n",
       "      <td>sonicsta</td>\n",
       "      <td>1724650860</td>\n",
       "    </tr>\n",
       "    <tr>\n",
       "      <th>...</th>\n",
       "      <td>...</td>\n",
       "      <td>...</td>\n",
       "    </tr>\n",
       "    <tr>\n",
       "      <th>5874</th>\n",
       "      <td>oceansatealaska</td>\n",
       "      <td>1607030604</td>\n",
       "    </tr>\n",
       "    <tr>\n",
       "      <th>5875</th>\n",
       "      <td>jameswlh</td>\n",
       "      <td>1607026007</td>\n",
       "    </tr>\n",
       "    <tr>\n",
       "      <th>5876</th>\n",
       "      <td>architects</td>\n",
       "      <td>1607025986</td>\n",
       "    </tr>\n",
       "    <tr>\n",
       "      <th>5877</th>\n",
       "      <td>jerbro_martin</td>\n",
       "      <td>1607017442</td>\n",
       "    </tr>\n",
       "    <tr>\n",
       "      <th>5878</th>\n",
       "      <td>oceansatealaska</td>\n",
       "      <td>1606960238</td>\n",
       "    </tr>\n",
       "  </tbody>\n",
       "</table>\n",
       "<p>5879 rows × 2 columns</p>\n",
       "</div>"
      ],
      "text/plain": [
       "                        title  time of like\n",
       "0                  leviatangg    1724651069\n",
       "1     howitfeelstochewfivegum    1724651060\n",
       "2          the.paragonproject    1724650925\n",
       "3             golden_frog_inn    1724650868\n",
       "4                    sonicsta    1724650860\n",
       "...                       ...           ...\n",
       "5874          oceansatealaska    1607030604\n",
       "5875                 jameswlh    1607026007\n",
       "5876               architects    1607025986\n",
       "5877            jerbro_martin    1607017442\n",
       "5878          oceansatealaska    1606960238\n",
       "\n",
       "[5879 rows x 2 columns]"
      ]
     },
     "execution_count": 14,
     "metadata": {},
     "output_type": "execute_result"
    }
   ],
   "source": [
    "likes_df_tidy"
   ]
  },
  {
   "cell_type": "code",
   "execution_count": 15,
   "id": "fc82fc16-199a-4cb8-be2a-c725ed87b8da",
   "metadata": {},
   "outputs": [
    {
     "data": {
      "text/html": [
       "<div>\n",
       "<style scoped>\n",
       "    .dataframe tbody tr th:only-of-type {\n",
       "        vertical-align: middle;\n",
       "    }\n",
       "\n",
       "    .dataframe tbody tr th {\n",
       "        vertical-align: top;\n",
       "    }\n",
       "\n",
       "    .dataframe thead th {\n",
       "        text-align: right;\n",
       "    }\n",
       "</style>\n",
       "<table border=\"1\" class=\"dataframe\">\n",
       "  <thead>\n",
       "    <tr style=\"text-align: right;\">\n",
       "      <th></th>\n",
       "      <th>string_list_data</th>\n",
       "      <th>time of like</th>\n",
       "    </tr>\n",
       "    <tr>\n",
       "      <th>title</th>\n",
       "      <th></th>\n",
       "      <th></th>\n",
       "    </tr>\n",
       "  </thead>\n",
       "  <tbody>\n",
       "    <tr>\n",
       "      <th>scpfoundationwiki</th>\n",
       "      <td>75</td>\n",
       "      <td>75</td>\n",
       "    </tr>\n",
       "    <tr>\n",
       "      <th>carlton_uranium_updegraph</th>\n",
       "      <td>73</td>\n",
       "      <td>73</td>\n",
       "    </tr>\n",
       "    <tr>\n",
       "      <th>lotusbubble</th>\n",
       "      <td>70</td>\n",
       "      <td>70</td>\n",
       "    </tr>\n",
       "    <tr>\n",
       "      <th>rossdraws</th>\n",
       "      <td>60</td>\n",
       "      <td>60</td>\n",
       "    </tr>\n",
       "    <tr>\n",
       "      <th>levivy</th>\n",
       "      <td>46</td>\n",
       "      <td>46</td>\n",
       "    </tr>\n",
       "    <tr>\n",
       "      <th>...</th>\n",
       "      <td>...</td>\n",
       "      <td>...</td>\n",
       "    </tr>\n",
       "    <tr>\n",
       "      <th>high_v0ltag3</th>\n",
       "      <td>1</td>\n",
       "      <td>1</td>\n",
       "    </tr>\n",
       "    <tr>\n",
       "      <th>higha1do</th>\n",
       "      <td>1</td>\n",
       "      <td>1</td>\n",
       "    </tr>\n",
       "    <tr>\n",
       "      <th>hillcountry_memes</th>\n",
       "      <td>1</td>\n",
       "      <td>1</td>\n",
       "    </tr>\n",
       "    <tr>\n",
       "      <th>hip_the_collector</th>\n",
       "      <td>1</td>\n",
       "      <td>1</td>\n",
       "    </tr>\n",
       "    <tr>\n",
       "      <th>zzvwa</th>\n",
       "      <td>1</td>\n",
       "      <td>1</td>\n",
       "    </tr>\n",
       "  </tbody>\n",
       "</table>\n",
       "<p>3003 rows × 2 columns</p>\n",
       "</div>"
      ],
      "text/plain": [
       "                           string_list_data  time of like\n",
       "title                                                    \n",
       "scpfoundationwiki                        75            75\n",
       "carlton_uranium_updegraph                73            73\n",
       "lotusbubble                              70            70\n",
       "rossdraws                                60            60\n",
       "levivy                                   46            46\n",
       "...                                     ...           ...\n",
       "high_v0ltag3                              1             1\n",
       "higha1do                                  1             1\n",
       "hillcountry_memes                         1             1\n",
       "hip_the_collector                         1             1\n",
       "zzvwa                                     1             1\n",
       "\n",
       "[3003 rows x 2 columns]"
      ]
     },
     "execution_count": 15,
     "metadata": {},
     "output_type": "execute_result"
    }
   ],
   "source": [
    "likes_df.groupby('title').count().\\\n",
    "sort_values('string_list_data', ascending = False)"
   ]
  },
  {
   "cell_type": "code",
   "execution_count": 16,
   "id": "ea3bcf2e-2952-4d21-a972-00470c2f02d0",
   "metadata": {},
   "outputs": [
    {
     "data": {
      "text/plain": [
       "<Axes: xlabel='title'>"
      ]
     },
     "execution_count": 16,
     "metadata": {},
     "output_type": "execute_result"
    },
    {
     "data": {
      "image/png": "[encoded data removed]",
      "text/plain": [
       "<Figure size 640x480 with 1 Axes>"
      ]
     },
     "metadata": {},
     "output_type": "display_data"
    }
   ],
   "source": [
    "likes_df2.groupby('title').count().\\\n",
    "sort_values('href', ascending = False)['href'].head(30).plot(kind='bar')"
   ]
  },
  {
   "cell_type": "markdown",
   "id": "09dc58b0-760d-4aba-b93d-99a9cfe5bc95",
   "metadata": {},
   "source": [
    "My Hypothosis is that I generally only like posts from accounts I follow. "
   ]
  },
  {
   "cell_type": "code",
   "execution_count": 17,
   "id": "bd1e4422-ea11-4093-a3c1-83032235ec14",
   "metadata": {},
   "outputs": [],
   "source": [
    "path = r\"C:\\Users\\datgu\\OneDrive\\Desktop\\instagram-lukesidle-2024-08-27-pYfaJOJZ\\connections\\followers_and_following\\following.json\"\n",
    "with open (path)as j:\n",
    "    follow = json.load(j)"
   ]
  },
  {
   "cell_type": "code",
   "execution_count": 18,
   "id": "aa494bfa-d105-4bd9-861a-c3c70416472c",
   "metadata": {},
   "outputs": [
    {
     "data": {
      "text/plain": [
       "dict_keys(['relationships_following'])"
      ]
     },
     "execution_count": 18,
     "metadata": {},
     "output_type": "execute_result"
    }
   ],
   "source": [
    "follow.keys()"
   ]
  },
  {
   "cell_type": "code",
   "execution_count": 19,
   "id": "90363d21-04a4-4edb-94f1-3039a6d60778",
   "metadata": {},
   "outputs": [
    {
     "data": {
      "text/html": [
       "<div>\n",
       "<style scoped>\n",
       "    .dataframe tbody tr th:only-of-type {\n",
       "        vertical-align: middle;\n",
       "    }\n",
       "\n",
       "    .dataframe tbody tr th {\n",
       "        vertical-align: top;\n",
       "    }\n",
       "\n",
       "    .dataframe thead th {\n",
       "        text-align: right;\n",
       "    }\n",
       "</style>\n",
       "<table border=\"1\" class=\"dataframe\">\n",
       "  <thead>\n",
       "    <tr style=\"text-align: right;\">\n",
       "      <th></th>\n",
       "      <th>title</th>\n",
       "      <th>media_list_data</th>\n",
       "      <th>string_list_data</th>\n",
       "    </tr>\n",
       "  </thead>\n",
       "  <tbody>\n",
       "    <tr>\n",
       "      <th>0</th>\n",
       "      <td></td>\n",
       "      <td>[]</td>\n",
       "      <td>[{'href': 'https://www.instagram.com/talonespo...</td>\n",
       "    </tr>\n",
       "    <tr>\n",
       "      <th>1</th>\n",
       "      <td></td>\n",
       "      <td>[]</td>\n",
       "      <td>[{'href': 'https://www.instagram.com/shxxrda',...</td>\n",
       "    </tr>\n",
       "    <tr>\n",
       "      <th>2</th>\n",
       "      <td></td>\n",
       "      <td>[]</td>\n",
       "      <td>[{'href': 'https://www.instagram.com/victor.m....</td>\n",
       "    </tr>\n",
       "    <tr>\n",
       "      <th>3</th>\n",
       "      <td></td>\n",
       "      <td>[]</td>\n",
       "      <td>[{'href': 'https://www.instagram.com/nardwuar'...</td>\n",
       "    </tr>\n",
       "    <tr>\n",
       "      <th>4</th>\n",
       "      <td></td>\n",
       "      <td>[]</td>\n",
       "      <td>[{'href': 'https://www.instagram.com/vennisay'...</td>\n",
       "    </tr>\n",
       "  </tbody>\n",
       "</table>\n",
       "</div>"
      ],
      "text/plain": [
       "  title media_list_data                                   string_list_data\n",
       "0                    []  [{'href': 'https://www.instagram.com/talonespo...\n",
       "1                    []  [{'href': 'https://www.instagram.com/shxxrda',...\n",
       "2                    []  [{'href': 'https://www.instagram.com/victor.m....\n",
       "3                    []  [{'href': 'https://www.instagram.com/nardwuar'...\n",
       "4                    []  [{'href': 'https://www.instagram.com/vennisay'..."
      ]
     },
     "execution_count": 19,
     "metadata": {},
     "output_type": "execute_result"
    }
   ],
   "source": [
    "follow_df = pd.DataFrame(follow['relationships_following'])\n",
    "follow_df.head()"
   ]
  },
  {
   "cell_type": "code",
   "execution_count": 37,
   "id": "3b0b4904-a8d7-404e-a129-57a4859cd8da",
   "metadata": {},
   "outputs": [],
   "source": [
    "follow_df['account followed'] = [x[0]['href'] for x in follow_df['string_list_data']]"
   ]
  },
  {
   "cell_type": "markdown",
   "id": "0ddda10b-b7b9-4ae3-adb9-39aa5dbb7550",
   "metadata": {},
   "source": [
    "Had to use href because the \"title\" value in my following data was blank for every account name. "
   ]
  },
  {
   "cell_type": "code",
   "execution_count": 38,
   "id": "f47ead6a-16e9-4271-8b0e-0a5ec03f4f04",
   "metadata": {},
   "outputs": [],
   "source": [
    "follow_df2 = pd.DataFrame([x[0] for x in follow_df['string_list_data']])"
   ]
  },
  {
   "cell_type": "code",
   "execution_count": 41,
   "id": "3c87c4b6-3844-44ed-a514-3c6c4196d9e1",
   "metadata": {},
   "outputs": [],
   "source": [
    "follow_df_tidy = follow_df.drop(columns = ['string_list_data', 'media_list_data', 'title', 'time of follow'])"
   ]
  },
  {
   "cell_type": "code",
   "execution_count": 51,
   "id": "72dde95e-bf2c-44c0-bc39-1228646d8f2d",
   "metadata": {},
   "outputs": [
    {
     "data": {
      "text/html": [
       "<div>\n",
       "<style scoped>\n",
       "    .dataframe tbody tr th:only-of-type {\n",
       "        vertical-align: middle;\n",
       "    }\n",
       "\n",
       "    .dataframe tbody tr th {\n",
       "        vertical-align: top;\n",
       "    }\n",
       "\n",
       "    .dataframe thead th {\n",
       "        text-align: right;\n",
       "    }\n",
       "</style>\n",
       "<table border=\"1\" class=\"dataframe\">\n",
       "  <thead>\n",
       "    <tr style=\"text-align: right;\">\n",
       "      <th></th>\n",
       "      <th>account followed</th>\n",
       "    </tr>\n",
       "  </thead>\n",
       "  <tbody>\n",
       "    <tr>\n",
       "      <th>271</th>\n",
       "      <td>https://www.instagram.com/brandikarin_</td>\n",
       "    </tr>\n",
       "    <tr>\n",
       "      <th>272</th>\n",
       "      <td>https://www.instagram.com/lukewarmpuns</td>\n",
       "    </tr>\n",
       "    <tr>\n",
       "      <th>273</th>\n",
       "      <td>https://www.instagram.com/its.mckin</td>\n",
       "    </tr>\n",
       "    <tr>\n",
       "      <th>274</th>\n",
       "      <td>https://www.instagram.com/juliea_dworning</td>\n",
       "    </tr>\n",
       "    <tr>\n",
       "      <th>275</th>\n",
       "      <td>https://www.instagram.com/phenix.phangorn</td>\n",
       "    </tr>\n",
       "    <tr>\n",
       "      <th>276</th>\n",
       "      <td>https://www.instagram.com/ginger_head14</td>\n",
       "    </tr>\n",
       "    <tr>\n",
       "      <th>277</th>\n",
       "      <td>https://www.instagram.com/fluffyrella</td>\n",
       "    </tr>\n",
       "    <tr>\n",
       "      <th>278</th>\n",
       "      <td>https://www.instagram.com/yeet_juice03</td>\n",
       "    </tr>\n",
       "    <tr>\n",
       "      <th>279</th>\n",
       "      <td>https://www.instagram.com/simon_simone_salmon</td>\n",
       "    </tr>\n",
       "    <tr>\n",
       "      <th>280</th>\n",
       "      <td>https://www.instagram.com/martindetwiler</td>\n",
       "    </tr>\n",
       "    <tr>\n",
       "      <th>281</th>\n",
       "      <td>https://www.instagram.com/daniel.sidle</td>\n",
       "    </tr>\n",
       "    <tr>\n",
       "      <th>282</th>\n",
       "      <td>https://www.instagram.com/jameswlh</td>\n",
       "    </tr>\n",
       "    <tr>\n",
       "      <th>283</th>\n",
       "      <td>https://www.instagram.com/chrisoaa</td>\n",
       "    </tr>\n",
       "    <tr>\n",
       "      <th>284</th>\n",
       "      <td>https://www.instagram.com/architects</td>\n",
       "    </tr>\n",
       "    <tr>\n",
       "      <th>285</th>\n",
       "      <td>https://www.instagram.com/davidofdilucia</td>\n",
       "    </tr>\n",
       "    <tr>\n",
       "      <th>286</th>\n",
       "      <td>https://www.instagram.com/officialsmoothe</td>\n",
       "    </tr>\n",
       "    <tr>\n",
       "      <th>287</th>\n",
       "      <td>https://www.instagram.com/levivy</td>\n",
       "    </tr>\n",
       "    <tr>\n",
       "      <th>288</th>\n",
       "      <td>https://www.instagram.com/levi___rosenlieb_</td>\n",
       "    </tr>\n",
       "    <tr>\n",
       "      <th>289</th>\n",
       "      <td>https://www.instagram.com/jerbro_martin</td>\n",
       "    </tr>\n",
       "    <tr>\n",
       "      <th>290</th>\n",
       "      <td>https://www.instagram.com/tap3mana</td>\n",
       "    </tr>\n",
       "    <tr>\n",
       "      <th>291</th>\n",
       "      <td>https://www.instagram.com/kcokechukwu2</td>\n",
       "    </tr>\n",
       "    <tr>\n",
       "      <th>292</th>\n",
       "      <td>https://www.instagram.com/wecameasromans</td>\n",
       "    </tr>\n",
       "    <tr>\n",
       "      <th>293</th>\n",
       "      <td>https://www.instagram.com/princethirdo3</td>\n",
       "    </tr>\n",
       "    <tr>\n",
       "      <th>294</th>\n",
       "      <td>https://www.instagram.com/triple0003</td>\n",
       "    </tr>\n",
       "    <tr>\n",
       "      <th>295</th>\n",
       "      <td>https://www.instagram.com/oceansatealaska</td>\n",
       "    </tr>\n",
       "    <tr>\n",
       "      <th>296</th>\n",
       "      <td>https://www.instagram.com/abishai_j</td>\n",
       "    </tr>\n",
       "    <tr>\n",
       "      <th>297</th>\n",
       "      <td>https://www.instagram.com/thenickdetty</td>\n",
       "    </tr>\n",
       "    <tr>\n",
       "      <th>298</th>\n",
       "      <td>https://www.instagram.com/jakeluhrsabr</td>\n",
       "    </tr>\n",
       "    <tr>\n",
       "      <th>299</th>\n",
       "      <td>https://www.instagram.com/wolvesatthegate</td>\n",
       "    </tr>\n",
       "    <tr>\n",
       "      <th>300</th>\n",
       "      <td>https://www.instagram.com/scobucci</td>\n",
       "    </tr>\n",
       "  </tbody>\n",
       "</table>\n",
       "</div>"
      ],
      "text/plain": [
       "                                  account followed\n",
       "271         https://www.instagram.com/brandikarin_\n",
       "272         https://www.instagram.com/lukewarmpuns\n",
       "273            https://www.instagram.com/its.mckin\n",
       "274      https://www.instagram.com/juliea_dworning\n",
       "275      https://www.instagram.com/phenix.phangorn\n",
       "276        https://www.instagram.com/ginger_head14\n",
       "277          https://www.instagram.com/fluffyrella\n",
       "278         https://www.instagram.com/yeet_juice03\n",
       "279  https://www.instagram.com/simon_simone_salmon\n",
       "280       https://www.instagram.com/martindetwiler\n",
       "281         https://www.instagram.com/daniel.sidle\n",
       "282             https://www.instagram.com/jameswlh\n",
       "283             https://www.instagram.com/chrisoaa\n",
       "284           https://www.instagram.com/architects\n",
       "285       https://www.instagram.com/davidofdilucia\n",
       "286      https://www.instagram.com/officialsmoothe\n",
       "287               https://www.instagram.com/levivy\n",
       "288    https://www.instagram.com/levi___rosenlieb_\n",
       "289        https://www.instagram.com/jerbro_martin\n",
       "290             https://www.instagram.com/tap3mana\n",
       "291         https://www.instagram.com/kcokechukwu2\n",
       "292       https://www.instagram.com/wecameasromans\n",
       "293        https://www.instagram.com/princethirdo3\n",
       "294           https://www.instagram.com/triple0003\n",
       "295      https://www.instagram.com/oceansatealaska\n",
       "296            https://www.instagram.com/abishai_j\n",
       "297         https://www.instagram.com/thenickdetty\n",
       "298         https://www.instagram.com/jakeluhrsabr\n",
       "299      https://www.instagram.com/wolvesatthegate\n",
       "300             https://www.instagram.com/scobucci"
      ]
     },
     "execution_count": 51,
     "metadata": {},
     "output_type": "execute_result"
    }
   ],
   "source": [
    "follow_df_tidy.tail(30)"
   ]
  },
  {
   "cell_type": "markdown",
   "id": "a4984292-c71c-407c-9a73-85376c04285a",
   "metadata": {},
   "source": [
    "The data here represents the first 30 accounts I followed on Instagram. Multiple of these accounts are in my most liked accounts as well. This data strengthens my hypothesis. I think the data is tidy. You can see the link to the Instagram accounts and their respective follow number."
   ]
  },
  {
   "cell_type": "markdown",
   "id": "80a72885-8276-4714-9194-597a48096208",
   "metadata": {},
   "source": [
    "Reflection: I think it was a little bit frustrating making the follow data look tidy. Since all of the title values were blank I had to find a different solution for that. If there is a way to get the title values in the .json I need to figure that out for another similar report. "
   ]
  },
  {
   "cell_type": "code",
   "execution_count": null,
   "id": "83b55d15-8661-4a13-b23b-7b97988361bd",
   "metadata": {},
   "outputs": [],
   "source": []
  }
 ],
 "metadata": {
  "kernelspec": {
   "display_name": "Python 3 (ipykernel)",
   "language": "python",
   "name": "python3"
  },
  "language_info": {
   "codemirror_mode": {
    "name": "ipython",
    "version": 3
   },
   "file_extension": ".py",
   "mimetype": "text/x-python",
   "name": "python",
   "nbconvert_exporter": "python",
   "pygments_lexer": "ipython3",
   "version": "3.12.4"
  }
 },
 "nbformat": 4,
 "nbformat_minor": 5
}
