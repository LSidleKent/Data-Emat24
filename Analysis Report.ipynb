{
 "cells": [
  {
   "cell_type": "markdown",
   "id": "a02ed240-cba3-4727-8c2a-63f7394cca4f",
   "metadata": {},
   "source": [
    "Two Favorite Albums:\n",
    "Luke Sidle\n",
    "10/15/24\n",
    "The source I am using is the Spotify API endpoint. I am structuring the data using plots to showcase the differences visually and leaving some tables to show where the data came from. I am also pulling from my two favorite albums VxV by Wolves at the Gate and I Didn't Mean To Haunt You by Quadeca. The first one, VxV, means a lot to me because it pulls upon my faith as a Christian and is Gospel in its rawest form. I Didn't Mean to Haunt You is my favorite concept album of all time and is a beautiful story about accepting death, feeling like a ghost, and loss.\n",
    "\n",
    "Below I establish the plugins I am using. "
   ]
  },
  {
   "cell_type": "code",
   "execution_count": 77,
   "id": "e6588a31-32e0-4d47-9433-f6dbcca0ab46",
   "metadata": {},
   "outputs": [],
   "source": [
    "import urllib\n",
    "import requests\n",
    "import pandas as pd\n",
    "import json\n",
    "import base64\n",
    "import matplotlib.pyplot as plt\n",
    "import seaborn as sns\n",
    "from scipy import stats\n",
    "import statsmodels.formula.api as smf"
   ]
  },
  {
   "cell_type": "markdown",
   "id": "3a3ba97e-5853-4e72-819c-83415738bf96",
   "metadata": {},
   "source": [
    "Gaining access to the API and establishing what I am pulling from it in the next 5 cells. "
   ]
  },
  {
   "cell_type": "code",
   "execution_count": 78,
   "id": "573e6ca2-f644-4737-9b5a-5cb50ee2f0a7",
   "metadata": {},
   "outputs": [],
   "source": [
    "def get_session_token(SessionID, SessionKey):\n",
    "    url = 'https://accounts.spotify.com/api/token'\n",
    "    data = {'grant_type':'client_credentials'}\n",
    "    encoded_key = base64.b64encode(str(SessionID + \":\" + SessionKey).\\\n",
    "                                   encode(\"ascii\"))\n",
    "    header = {'Authorization':'Basic {}'.format(encoded_key.decode(\"ascii\"))}\n",
    "    response = requests.post(url, data = data, headers = header)\n",
    "    print(response.status_code)\n",
    "    return response.json()['access_token']"
   ]
  },
  {
   "cell_type": "code",
   "execution_count": 79,
   "id": "4ccd5495-ec15-4918-a434-e2b622ba7c4f",
   "metadata": {},
   "outputs": [],
   "source": [
    "keys = pd.read_csv(r\"C:\\Users\\datgu\\OneDrive\\Documents\\spotifykeys.txt\")"
   ]
  },
  {
   "cell_type": "code",
   "execution_count": 80,
   "id": "251dcdbf-0d19-4f3f-b0a2-d8f3ca0f5806",
   "metadata": {},
   "outputs": [
    {
     "name": "stdout",
     "output_type": "stream",
     "text": [
      "200\n"
     ]
    }
   ],
   "source": [
    "access_token = get_session_token(keys['Client_ID'].iloc[0], keys['Client_Secret'].iloc[0])"
   ]
  },
  {
   "cell_type": "code",
   "execution_count": 81,
   "id": "bcb451b0-a8ba-4b79-8ef8-af4cba1860df",
   "metadata": {},
   "outputs": [],
   "source": [
    "t_features_ep = 'https://api.spotify.com/v1/audio-features'\n",
    "tracks_ep = 'https://api.spotify.com/v1/tracks'\n",
    "ab_tracks_ep = 'https://api.spotify.com/v1/albums/{}/tracks'"
   ]
  },
  {
   "cell_type": "code",
   "execution_count": 82,
   "id": "8196ec7b-7b14-45d1-959f-a7f901bd8c38",
   "metadata": {},
   "outputs": [],
   "source": [
    "def api_call(endpoint_url, api_header):\n",
    "    response = requests.get(endpoint_url, headers = api_header)\n",
    "    print(response.status_code)\n",
    "    return response.json()"
   ]
  },
  {
   "cell_type": "code",
   "execution_count": 83,
   "id": "3a5dc78d-7407-4619-bb3c-cc4bef9418e5",
   "metadata": {},
   "outputs": [],
   "source": [
    "session_header = {'Authorization': 'Bearer {}'.format(access_token)}"
   ]
  },
  {
   "cell_type": "code",
   "execution_count": 84,
   "id": "f2fdd695-3a8a-4150-9719-5561f3f84e83",
   "metadata": {},
   "outputs": [],
   "source": [
    "watg_album_id = '25iSFYXaLB60M0wNpYe2ms'\n",
    "quad_album_id = '3c0NHNo2Gn0X7uARad3hGv'"
   ]
  },
  {
   "cell_type": "markdown",
   "id": "7b13c836-eccd-4255-a599-e4382d4b1b35",
   "metadata": {},
   "source": [
    "Beginning to format the albums into a dataframe so I can merge them and put them into a CSV."
   ]
  },
  {
   "cell_type": "code",
   "execution_count": 85,
   "id": "1235850c-8e9f-4a04-ab6a-e2ca613a1f59",
   "metadata": {},
   "outputs": [
    {
     "data": {
      "text/plain": [
       "'https://api.spotify.com/v1/albums/25iSFYXaLB60M0wNpYe2ms/tracks'"
      ]
     },
     "execution_count": 85,
     "metadata": {},
     "output_type": "execute_result"
    }
   ],
   "source": [
    "ab_tracks_ep.format(watg_album_id)"
   ]
  },
  {
   "cell_type": "code",
   "execution_count": 86,
   "id": "7fc67dbb-780c-4b86-aef8-731c60983ead",
   "metadata": {},
   "outputs": [
    {
     "name": "stdout",
     "output_type": "stream",
     "text": [
      "200\n",
      "200\n"
     ]
    }
   ],
   "source": [
    "watg_album_response = api_call(ab_tracks_ep.format(watg_album_id), session_header)\n",
    "quad_album_response = api_call(ab_tracks_ep.format(quad_album_id), session_header)"
   ]
  },
  {
   "cell_type": "markdown",
   "id": "d07a93b3-7a7f-4826-96ce-78a31ac8d588",
   "metadata": {},
   "source": [
    "Beginning the creation of the DataFrames I will use to merge the data."
   ]
  },
  {
   "cell_type": "code",
   "execution_count": 87,
   "id": "fd5d90df-0dd3-415e-b94d-669ff3888ab5",
   "metadata": {},
   "outputs": [],
   "source": [
    "watg_album_df = pd.DataFrame(watg_album_response['items'])\n",
    "quad_album_df = pd.DataFrame(quad_album_response['items'])"
   ]
  },
  {
   "cell_type": "code",
   "execution_count": 88,
   "id": "cdf7ce39-492a-451a-91aa-4258bbff3ae4",
   "metadata": {},
   "outputs": [],
   "source": [
    "watg_track_ids = ','.join(watg_album_df['id'].to_list())\n",
    "quad_track_ids = ','.join(quad_album_df['id'].to_list())"
   ]
  },
  {
   "cell_type": "code",
   "execution_count": 89,
   "id": "6d5fafcb-959b-457a-ad6a-c52a530548f6",
   "metadata": {},
   "outputs": [
    {
     "data": {
      "text/plain": [
       "'https://api.spotify.com/v1/audio-features?ids=3HhsLALqyS3O9JXE5vj3xl,17yeitb3I9fSEpw1kG9LIE,5JCBb6sGxeB93wzaqTaPKM,36lQBngkQH3JLtnPFBzviZ,1zb354qk8lK6MzGEZawPXT,0xmEH5OAtUZJf83ozYRufY,60sc1UiFaltuJX2WktAnw9,4I6CeEuLSRBAUJFqB3PtwO,1uiJkS2bAunCK9vVSmZWWR,6rzNIrmIBwbq8wr8EH3xXy,2h2ZGHSy4YLSNdoMw96kVS,1FgK0mMs5VAzcKHV9s23rJ'"
      ]
     },
     "execution_count": 89,
     "metadata": {},
     "output_type": "execute_result"
    }
   ],
   "source": [
    "t_features_ep + '?ids={}'.format(watg_track_ids)"
   ]
  },
  {
   "cell_type": "code",
   "execution_count": 90,
   "id": "0483c8b1-2f66-4cfb-9c3f-883dd5a4e936",
   "metadata": {},
   "outputs": [
    {
     "name": "stdout",
     "output_type": "stream",
     "text": [
      "200\n",
      "200\n"
     ]
    }
   ],
   "source": [
    "watg_track_features = api_call(t_features_ep + '?ids={}'.format(watg_track_ids), session_header)\n",
    "quad_track_features = api_call(t_features_ep + '?ids={}'.format(quad_track_ids), session_header)"
   ]
  },
  {
   "cell_type": "code",
   "execution_count": 91,
   "id": "07e358e5-bfa3-4fc4-a674-fcc1b48dbad2",
   "metadata": {},
   "outputs": [
    {
     "name": "stdout",
     "output_type": "stream",
     "text": [
      "200\n",
      "200\n"
     ]
    }
   ],
   "source": [
    "watg_track_info = api_call(tracks_ep + '?market=US&ids={}'.format(watg_track_ids), session_header)\n",
    "quad_track_info = api_call(tracks_ep + '?market=US&ids={}'.format(quad_track_ids), session_header)"
   ]
  },
  {
   "cell_type": "code",
   "execution_count": 92,
   "id": "fadf0e4e-89ad-40c0-8367-ee9624826aac",
   "metadata": {},
   "outputs": [],
   "source": [
    "watg_features_df = pd.DataFrame(watg_track_features['audio_features'])\n",
    "quad_features_df = pd.DataFrame(quad_track_features['audio_features'])"
   ]
  },
  {
   "cell_type": "code",
   "execution_count": 93,
   "id": "6b7cdb33-bc7a-405c-8717-85d2344bb252",
   "metadata": {},
   "outputs": [],
   "source": [
    "watg_tracks_df = pd.DataFrame(watg_track_info['tracks'])\n",
    "quad_tracks_df = pd.DataFrame(quad_track_info['tracks'])"
   ]
  },
  {
   "cell_type": "code",
   "execution_count": 94,
   "id": "5e82e18d-595e-4aeb-a783-7b00877adf67",
   "metadata": {},
   "outputs": [],
   "source": [
    "watg_merged = pd.merge(watg_features_df, watg_tracks_df, how = 'inner', on = 'id')\n",
    "quad_merged = pd.merge(quad_features_df, quad_tracks_df, how = 'inner', on = 'id')"
   ]
  },
  {
   "cell_type": "markdown",
   "id": "f62276c8-29f4-42cf-9fbd-5ead81da346e",
   "metadata": {},
   "source": [
    "After I finish merging the albums into one data frame. I give them short names so that I can speed up the process."
   ]
  },
  {
   "cell_type": "code",
   "execution_count": 116,
   "id": "d1ab2f01-3d36-4a7e-868b-53590a61e986",
   "metadata": {},
   "outputs": [],
   "source": [
    "watg_merged['artist'] = \"Wolves at the Gate\"\n",
    "quad_merged['artist'] = \"Quadeca\""
   ]
  },
  {
   "cell_type": "code",
   "execution_count": 117,
   "id": "cedf9969-dd2a-4855-b741-35b0edc18674",
   "metadata": {},
   "outputs": [],
   "source": [
    "artist_compare = pd.concat([watg_merged,quad_merged], axis = 0)"
   ]
  },
  {
   "cell_type": "markdown",
   "id": "3addb8ab-9b65-4bc7-87f1-7ce81a730b90",
   "metadata": {},
   "source": [
    "Here I put the merged data frame into a CSV so that I can access it in plots to showcase the data."
   ]
  },
  {
   "cell_type": "code",
   "execution_count": 118,
   "id": "60a4e22f-6947-496c-9c3a-287693b9ed54",
   "metadata": {},
   "outputs": [],
   "source": [
    "artist_compare.to_csv('file4.csv')"
   ]
  },
  {
   "cell_type": "markdown",
   "id": "ca21cae2-1495-4220-9abc-aa340d4380f8",
   "metadata": {},
   "source": [
    "Giving the data short hand name."
   ]
  },
  {
   "cell_type": "code",
   "execution_count": 123,
   "id": "5cb67724-5003-447a-a369-ca2ac32b5946",
   "metadata": {},
   "outputs": [],
   "source": [
    "ces = pd.read_csv('file4.csv')"
   ]
  },
  {
   "cell_type": "markdown",
   "id": "3e7fb457-f2d7-4b44-a8d7-e43b839955b7",
   "metadata": {},
   "source": [
    "Here I am checking how many songs are on each album so I can determine if the data would be weighted to heavily in one way."
   ]
  },
  {
   "cell_type": "code",
   "execution_count": 125,
   "id": "749264c8-aa22-4cb3-8b73-6eeb196b068b",
   "metadata": {},
   "outputs": [
    {
     "data": {
      "text/plain": [
       "artist\n",
       "Quadeca               11\n",
       "Wolves at the Gate    12\n",
       "Name: id, dtype: int64"
      ]
     },
     "execution_count": 125,
     "metadata": {},
     "output_type": "execute_result"
    }
   ],
   "source": [
    "ces.groupby('artist')['id'].count()"
   ]
  },
  {
   "cell_type": "markdown",
   "id": "5a3edf79-19b6-43e7-bd05-2f63541c1f7b",
   "metadata": {},
   "source": [
    "Determing the shorthand I will use for ces ['artist'] in the next two cells so I can speed the process up. This also allows me to divide the data between the albums so I can have better looking plots."
   ]
  },
  {
   "cell_type": "code",
   "execution_count": 129,
   "id": "687041a2-383e-431e-8cc2-f54b08a014cd",
   "metadata": {},
   "outputs": [
    {
     "data": {
      "text/html": [
       "<div>\n",
       "<style scoped>\n",
       "    .dataframe tbody tr th:only-of-type {\n",
       "        vertical-align: middle;\n",
       "    }\n",
       "\n",
       "    .dataframe tbody tr th {\n",
       "        vertical-align: top;\n",
       "    }\n",
       "\n",
       "    .dataframe thead th {\n",
       "        text-align: right;\n",
       "    }\n",
       "</style>\n",
       "<table border=\"1\" class=\"dataframe\">\n",
       "  <thead>\n",
       "    <tr style=\"text-align: right;\">\n",
       "      <th></th>\n",
       "      <th>Unnamed: 0</th>\n",
       "      <th>danceability</th>\n",
       "      <th>energy</th>\n",
       "      <th>key</th>\n",
       "      <th>loudness</th>\n",
       "      <th>mode</th>\n",
       "      <th>speechiness</th>\n",
       "      <th>acousticness</th>\n",
       "      <th>instrumentalness</th>\n",
       "      <th>liveness</th>\n",
       "      <th>...</th>\n",
       "      <th>href</th>\n",
       "      <th>is_local</th>\n",
       "      <th>is_playable</th>\n",
       "      <th>name</th>\n",
       "      <th>popularity</th>\n",
       "      <th>preview_url</th>\n",
       "      <th>track_number</th>\n",
       "      <th>type_y</th>\n",
       "      <th>uri_y</th>\n",
       "      <th>artist</th>\n",
       "    </tr>\n",
       "  </thead>\n",
       "  <tbody>\n",
       "    <tr>\n",
       "      <th>0</th>\n",
       "      <td>0</td>\n",
       "      <td>0.348</td>\n",
       "      <td>0.609</td>\n",
       "      <td>2</td>\n",
       "      <td>-16.927</td>\n",
       "      <td>1</td>\n",
       "      <td>0.0858</td>\n",
       "      <td>0.937000</td>\n",
       "      <td>0.000000</td>\n",
       "      <td>0.7380</td>\n",
       "      <td>...</td>\n",
       "      <td>https://api.spotify.com/v1/tracks/3HhsLALqyS3O...</td>\n",
       "      <td>False</td>\n",
       "      <td>True</td>\n",
       "      <td>Vxv</td>\n",
       "      <td>13</td>\n",
       "      <td>https://p.scdn.co/mp3-preview/8eb83356573c0d1e...</td>\n",
       "      <td>1</td>\n",
       "      <td>track</td>\n",
       "      <td>spotify:track:3HhsLALqyS3O9JXE5vj3xl</td>\n",
       "      <td>Wolves at the Gate</td>\n",
       "    </tr>\n",
       "    <tr>\n",
       "      <th>1</th>\n",
       "      <td>1</td>\n",
       "      <td>0.419</td>\n",
       "      <td>0.999</td>\n",
       "      <td>11</td>\n",
       "      <td>-3.393</td>\n",
       "      <td>0</td>\n",
       "      <td>0.2450</td>\n",
       "      <td>0.000597</td>\n",
       "      <td>0.000000</td>\n",
       "      <td>0.3350</td>\n",
       "      <td>...</td>\n",
       "      <td>https://api.spotify.com/v1/tracks/17yeitb3I9fS...</td>\n",
       "      <td>False</td>\n",
       "      <td>True</td>\n",
       "      <td>Wake Up</td>\n",
       "      <td>21</td>\n",
       "      <td>https://p.scdn.co/mp3-preview/ae728d1419907ded...</td>\n",
       "      <td>2</td>\n",
       "      <td>track</td>\n",
       "      <td>spotify:track:17yeitb3I9fSEpw1kG9LIE</td>\n",
       "      <td>Wolves at the Gate</td>\n",
       "    </tr>\n",
       "    <tr>\n",
       "      <th>2</th>\n",
       "      <td>2</td>\n",
       "      <td>0.453</td>\n",
       "      <td>0.998</td>\n",
       "      <td>2</td>\n",
       "      <td>-4.697</td>\n",
       "      <td>1</td>\n",
       "      <td>0.2760</td>\n",
       "      <td>0.000149</td>\n",
       "      <td>0.000000</td>\n",
       "      <td>0.0873</td>\n",
       "      <td>...</td>\n",
       "      <td>https://api.spotify.com/v1/tracks/5JCBb6sGxeB9...</td>\n",
       "      <td>False</td>\n",
       "      <td>True</td>\n",
       "      <td>Dust to Dust</td>\n",
       "      <td>21</td>\n",
       "      <td>https://p.scdn.co/mp3-preview/e0d6514ef5d25fed...</td>\n",
       "      <td>3</td>\n",
       "      <td>track</td>\n",
       "      <td>spotify:track:5JCBb6sGxeB93wzaqTaPKM</td>\n",
       "      <td>Wolves at the Gate</td>\n",
       "    </tr>\n",
       "    <tr>\n",
       "      <th>3</th>\n",
       "      <td>3</td>\n",
       "      <td>0.239</td>\n",
       "      <td>0.993</td>\n",
       "      <td>2</td>\n",
       "      <td>-3.873</td>\n",
       "      <td>0</td>\n",
       "      <td>0.3050</td>\n",
       "      <td>0.000289</td>\n",
       "      <td>0.000003</td>\n",
       "      <td>0.3350</td>\n",
       "      <td>...</td>\n",
       "      <td>https://api.spotify.com/v1/tracks/36lQBngkQH3J...</td>\n",
       "      <td>False</td>\n",
       "      <td>True</td>\n",
       "      <td>Return</td>\n",
       "      <td>17</td>\n",
       "      <td>https://p.scdn.co/mp3-preview/51cc1c5950d7d3f7...</td>\n",
       "      <td>4</td>\n",
       "      <td>track</td>\n",
       "      <td>spotify:track:36lQBngkQH3JLtnPFBzviZ</td>\n",
       "      <td>Wolves at the Gate</td>\n",
       "    </tr>\n",
       "    <tr>\n",
       "      <th>4</th>\n",
       "      <td>4</td>\n",
       "      <td>0.468</td>\n",
       "      <td>0.994</td>\n",
       "      <td>2</td>\n",
       "      <td>-2.977</td>\n",
       "      <td>0</td>\n",
       "      <td>0.1480</td>\n",
       "      <td>0.001290</td>\n",
       "      <td>0.000000</td>\n",
       "      <td>0.3630</td>\n",
       "      <td>...</td>\n",
       "      <td>https://api.spotify.com/v1/tracks/1zb354qk8lK6...</td>\n",
       "      <td>False</td>\n",
       "      <td>True</td>\n",
       "      <td>Relief</td>\n",
       "      <td>24</td>\n",
       "      <td>https://p.scdn.co/mp3-preview/d02f00aaef92dfd5...</td>\n",
       "      <td>5</td>\n",
       "      <td>track</td>\n",
       "      <td>spotify:track:1zb354qk8lK6MzGEZawPXT</td>\n",
       "      <td>Wolves at the Gate</td>\n",
       "    </tr>\n",
       "    <tr>\n",
       "      <th>5</th>\n",
       "      <td>5</td>\n",
       "      <td>0.436</td>\n",
       "      <td>0.975</td>\n",
       "      <td>9</td>\n",
       "      <td>-3.988</td>\n",
       "      <td>0</td>\n",
       "      <td>0.1990</td>\n",
       "      <td>0.003150</td>\n",
       "      <td>0.000002</td>\n",
       "      <td>0.3260</td>\n",
       "      <td>...</td>\n",
       "      <td>https://api.spotify.com/v1/tracks/0xmEH5OAtUZJ...</td>\n",
       "      <td>False</td>\n",
       "      <td>True</td>\n",
       "      <td>The Bird and the Snake</td>\n",
       "      <td>22</td>\n",
       "      <td>https://p.scdn.co/mp3-preview/99c777e6b81180bc...</td>\n",
       "      <td>6</td>\n",
       "      <td>track</td>\n",
       "      <td>spotify:track:0xmEH5OAtUZJf83ozYRufY</td>\n",
       "      <td>Wolves at the Gate</td>\n",
       "    </tr>\n",
       "    <tr>\n",
       "      <th>6</th>\n",
       "      <td>6</td>\n",
       "      <td>0.408</td>\n",
       "      <td>0.984</td>\n",
       "      <td>2</td>\n",
       "      <td>-3.899</td>\n",
       "      <td>0</td>\n",
       "      <td>0.0954</td>\n",
       "      <td>0.000148</td>\n",
       "      <td>0.000007</td>\n",
       "      <td>0.3110</td>\n",
       "      <td>...</td>\n",
       "      <td>https://api.spotify.com/v1/tracks/60sc1UiFaltu...</td>\n",
       "      <td>False</td>\n",
       "      <td>True</td>\n",
       "      <td>Rest</td>\n",
       "      <td>16</td>\n",
       "      <td>https://p.scdn.co/mp3-preview/71534c01df4c33c1...</td>\n",
       "      <td>7</td>\n",
       "      <td>track</td>\n",
       "      <td>spotify:track:60sc1UiFaltuJX2WktAnw9</td>\n",
       "      <td>Wolves at the Gate</td>\n",
       "    </tr>\n",
       "    <tr>\n",
       "      <th>7</th>\n",
       "      <td>7</td>\n",
       "      <td>0.276</td>\n",
       "      <td>0.945</td>\n",
       "      <td>2</td>\n",
       "      <td>-3.723</td>\n",
       "      <td>0</td>\n",
       "      <td>0.1330</td>\n",
       "      <td>0.000500</td>\n",
       "      <td>0.000001</td>\n",
       "      <td>0.1080</td>\n",
       "      <td>...</td>\n",
       "      <td>https://api.spotify.com/v1/tracks/4I6CeEuLSRBA...</td>\n",
       "      <td>False</td>\n",
       "      <td>True</td>\n",
       "      <td>East to West</td>\n",
       "      <td>23</td>\n",
       "      <td>https://p.scdn.co/mp3-preview/be92b3f5a634d521...</td>\n",
       "      <td>8</td>\n",
       "      <td>track</td>\n",
       "      <td>spotify:track:4I6CeEuLSRBAUJFqB3PtwO</td>\n",
       "      <td>Wolves at the Gate</td>\n",
       "    </tr>\n",
       "    <tr>\n",
       "      <th>8</th>\n",
       "      <td>8</td>\n",
       "      <td>0.505</td>\n",
       "      <td>0.994</td>\n",
       "      <td>11</td>\n",
       "      <td>-3.855</td>\n",
       "      <td>0</td>\n",
       "      <td>0.1620</td>\n",
       "      <td>0.000383</td>\n",
       "      <td>0.000000</td>\n",
       "      <td>0.0863</td>\n",
       "      <td>...</td>\n",
       "      <td>https://api.spotify.com/v1/tracks/1uiJkS2bAunC...</td>\n",
       "      <td>False</td>\n",
       "      <td>True</td>\n",
       "      <td>Wild Heart</td>\n",
       "      <td>16</td>\n",
       "      <td>https://p.scdn.co/mp3-preview/d31118e4bab7712d...</td>\n",
       "      <td>9</td>\n",
       "      <td>track</td>\n",
       "      <td>spotify:track:1uiJkS2bAunCK9vVSmZWWR</td>\n",
       "      <td>Wolves at the Gate</td>\n",
       "    </tr>\n",
       "    <tr>\n",
       "      <th>9</th>\n",
       "      <td>9</td>\n",
       "      <td>0.513</td>\n",
       "      <td>0.995</td>\n",
       "      <td>6</td>\n",
       "      <td>-3.021</td>\n",
       "      <td>1</td>\n",
       "      <td>0.1470</td>\n",
       "      <td>0.000112</td>\n",
       "      <td>0.000000</td>\n",
       "      <td>0.5120</td>\n",
       "      <td>...</td>\n",
       "      <td>https://api.spotify.com/v1/tracks/6rzNIrmIBwbq...</td>\n",
       "      <td>False</td>\n",
       "      <td>True</td>\n",
       "      <td>The Convicted</td>\n",
       "      <td>16</td>\n",
       "      <td>https://p.scdn.co/mp3-preview/488ee99e7843aa55...</td>\n",
       "      <td>10</td>\n",
       "      <td>track</td>\n",
       "      <td>spotify:track:6rzNIrmIBwbq8wr8EH3xXy</td>\n",
       "      <td>Wolves at the Gate</td>\n",
       "    </tr>\n",
       "    <tr>\n",
       "      <th>10</th>\n",
       "      <td>10</td>\n",
       "      <td>0.481</td>\n",
       "      <td>0.997</td>\n",
       "      <td>1</td>\n",
       "      <td>-3.542</td>\n",
       "      <td>0</td>\n",
       "      <td>0.2260</td>\n",
       "      <td>0.003850</td>\n",
       "      <td>0.000000</td>\n",
       "      <td>0.6190</td>\n",
       "      <td>...</td>\n",
       "      <td>https://api.spotify.com/v1/tracks/2h2ZGHSy4YLS...</td>\n",
       "      <td>False</td>\n",
       "      <td>True</td>\n",
       "      <td>Majesty in Misery</td>\n",
       "      <td>17</td>\n",
       "      <td>https://p.scdn.co/mp3-preview/0295acfdac7d4e96...</td>\n",
       "      <td>11</td>\n",
       "      <td>track</td>\n",
       "      <td>spotify:track:2h2ZGHSy4YLSNdoMw96kVS</td>\n",
       "      <td>Wolves at the Gate</td>\n",
       "    </tr>\n",
       "    <tr>\n",
       "      <th>11</th>\n",
       "      <td>11</td>\n",
       "      <td>0.444</td>\n",
       "      <td>0.972</td>\n",
       "      <td>0</td>\n",
       "      <td>-5.203</td>\n",
       "      <td>0</td>\n",
       "      <td>0.3240</td>\n",
       "      <td>0.017000</td>\n",
       "      <td>0.000000</td>\n",
       "      <td>0.3360</td>\n",
       "      <td>...</td>\n",
       "      <td>https://api.spotify.com/v1/tracks/1FgK0mMs5VAz...</td>\n",
       "      <td>False</td>\n",
       "      <td>True</td>\n",
       "      <td>The Father's Bargain</td>\n",
       "      <td>27</td>\n",
       "      <td>https://p.scdn.co/mp3-preview/e057452895ad9396...</td>\n",
       "      <td>12</td>\n",
       "      <td>track</td>\n",
       "      <td>spotify:track:1FgK0mMs5VAzcKHV9s23rJ</td>\n",
       "      <td>Wolves at the Gate</td>\n",
       "    </tr>\n",
       "  </tbody>\n",
       "</table>\n",
       "<p>12 rows × 36 columns</p>\n",
       "</div>"
      ],
      "text/plain": [
       "    Unnamed: 0  danceability  energy  key  loudness  mode  speechiness  \\\n",
       "0            0         0.348   0.609    2   -16.927     1       0.0858   \n",
       "1            1         0.419   0.999   11    -3.393     0       0.2450   \n",
       "2            2         0.453   0.998    2    -4.697     1       0.2760   \n",
       "3            3         0.239   0.993    2    -3.873     0       0.3050   \n",
       "4            4         0.468   0.994    2    -2.977     0       0.1480   \n",
       "5            5         0.436   0.975    9    -3.988     0       0.1990   \n",
       "6            6         0.408   0.984    2    -3.899     0       0.0954   \n",
       "7            7         0.276   0.945    2    -3.723     0       0.1330   \n",
       "8            8         0.505   0.994   11    -3.855     0       0.1620   \n",
       "9            9         0.513   0.995    6    -3.021     1       0.1470   \n",
       "10          10         0.481   0.997    1    -3.542     0       0.2260   \n",
       "11          11         0.444   0.972    0    -5.203     0       0.3240   \n",
       "\n",
       "    acousticness  instrumentalness  liveness  ...  \\\n",
       "0       0.937000          0.000000    0.7380  ...   \n",
       "1       0.000597          0.000000    0.3350  ...   \n",
       "2       0.000149          0.000000    0.0873  ...   \n",
       "3       0.000289          0.000003    0.3350  ...   \n",
       "4       0.001290          0.000000    0.3630  ...   \n",
       "5       0.003150          0.000002    0.3260  ...   \n",
       "6       0.000148          0.000007    0.3110  ...   \n",
       "7       0.000500          0.000001    0.1080  ...   \n",
       "8       0.000383          0.000000    0.0863  ...   \n",
       "9       0.000112          0.000000    0.5120  ...   \n",
       "10      0.003850          0.000000    0.6190  ...   \n",
       "11      0.017000          0.000000    0.3360  ...   \n",
       "\n",
       "                                                 href  is_local is_playable  \\\n",
       "0   https://api.spotify.com/v1/tracks/3HhsLALqyS3O...     False        True   \n",
       "1   https://api.spotify.com/v1/tracks/17yeitb3I9fS...     False        True   \n",
       "2   https://api.spotify.com/v1/tracks/5JCBb6sGxeB9...     False        True   \n",
       "3   https://api.spotify.com/v1/tracks/36lQBngkQH3J...     False        True   \n",
       "4   https://api.spotify.com/v1/tracks/1zb354qk8lK6...     False        True   \n",
       "5   https://api.spotify.com/v1/tracks/0xmEH5OAtUZJ...     False        True   \n",
       "6   https://api.spotify.com/v1/tracks/60sc1UiFaltu...     False        True   \n",
       "7   https://api.spotify.com/v1/tracks/4I6CeEuLSRBA...     False        True   \n",
       "8   https://api.spotify.com/v1/tracks/1uiJkS2bAunC...     False        True   \n",
       "9   https://api.spotify.com/v1/tracks/6rzNIrmIBwbq...     False        True   \n",
       "10  https://api.spotify.com/v1/tracks/2h2ZGHSy4YLS...     False        True   \n",
       "11  https://api.spotify.com/v1/tracks/1FgK0mMs5VAz...     False        True   \n",
       "\n",
       "                      name popularity  \\\n",
       "0                      Vxv         13   \n",
       "1                  Wake Up         21   \n",
       "2             Dust to Dust         21   \n",
       "3                   Return         17   \n",
       "4                   Relief         24   \n",
       "5   The Bird and the Snake         22   \n",
       "6                     Rest         16   \n",
       "7             East to West         23   \n",
       "8               Wild Heart         16   \n",
       "9            The Convicted         16   \n",
       "10       Majesty in Misery         17   \n",
       "11    The Father's Bargain         27   \n",
       "\n",
       "                                          preview_url track_number  type_y  \\\n",
       "0   https://p.scdn.co/mp3-preview/8eb83356573c0d1e...            1   track   \n",
       "1   https://p.scdn.co/mp3-preview/ae728d1419907ded...            2   track   \n",
       "2   https://p.scdn.co/mp3-preview/e0d6514ef5d25fed...            3   track   \n",
       "3   https://p.scdn.co/mp3-preview/51cc1c5950d7d3f7...            4   track   \n",
       "4   https://p.scdn.co/mp3-preview/d02f00aaef92dfd5...            5   track   \n",
       "5   https://p.scdn.co/mp3-preview/99c777e6b81180bc...            6   track   \n",
       "6   https://p.scdn.co/mp3-preview/71534c01df4c33c1...            7   track   \n",
       "7   https://p.scdn.co/mp3-preview/be92b3f5a634d521...            8   track   \n",
       "8   https://p.scdn.co/mp3-preview/d31118e4bab7712d...            9   track   \n",
       "9   https://p.scdn.co/mp3-preview/488ee99e7843aa55...           10   track   \n",
       "10  https://p.scdn.co/mp3-preview/0295acfdac7d4e96...           11   track   \n",
       "11  https://p.scdn.co/mp3-preview/e057452895ad9396...           12   track   \n",
       "\n",
       "                                   uri_y              artist  \n",
       "0   spotify:track:3HhsLALqyS3O9JXE5vj3xl  Wolves at the Gate  \n",
       "1   spotify:track:17yeitb3I9fSEpw1kG9LIE  Wolves at the Gate  \n",
       "2   spotify:track:5JCBb6sGxeB93wzaqTaPKM  Wolves at the Gate  \n",
       "3   spotify:track:36lQBngkQH3JLtnPFBzviZ  Wolves at the Gate  \n",
       "4   spotify:track:1zb354qk8lK6MzGEZawPXT  Wolves at the Gate  \n",
       "5   spotify:track:0xmEH5OAtUZJf83ozYRufY  Wolves at the Gate  \n",
       "6   spotify:track:60sc1UiFaltuJX2WktAnw9  Wolves at the Gate  \n",
       "7   spotify:track:4I6CeEuLSRBAUJFqB3PtwO  Wolves at the Gate  \n",
       "8   spotify:track:1uiJkS2bAunCK9vVSmZWWR  Wolves at the Gate  \n",
       "9   spotify:track:6rzNIrmIBwbq8wr8EH3xXy  Wolves at the Gate  \n",
       "10  spotify:track:2h2ZGHSy4YLSNdoMw96kVS  Wolves at the Gate  \n",
       "11  spotify:track:1FgK0mMs5VAzcKHV9s23rJ  Wolves at the Gate  \n",
       "\n",
       "[12 rows x 36 columns]"
      ]
     },
     "execution_count": 129,
     "metadata": {},
     "output_type": "execute_result"
    }
   ],
   "source": [
    "ces[ces['artist'] == 'Quadeca']\n",
    "ces[ces['artist'] == 'Wolves at the Gate']"
   ]
  },
  {
   "cell_type": "code",
   "execution_count": 132,
   "id": "b56b869e-8ffe-49d0-a965-2cfd9a03bcbe",
   "metadata": {},
   "outputs": [],
   "source": [
    "VxV = ces[ces['artist'] == 'Wolves at the Gate']\n",
    "IDMTHY = ces[ces['artist'] == 'Quadeca']"
   ]
  },
  {
   "cell_type": "markdown",
   "id": "5473c5c6-84c6-4067-a41e-e88cff3cb775",
   "metadata": {},
   "source": [
    "Building the first figure for histograms. I am choosing energy and valence because I think they are the most unique factors between the two albums. VxV is a metal album that is built in passion and electricity. I Didn't Mean To Haunt You is slow, experimental, and sadder. \n",
    "\n",
    "In the data below we see that the energy for VxV is extremely higher than the energy in IDMTHY as I predicted. The valence is closer in the graphs, but I think that this is not accurate. Spotify is probably more prone to thinking metal is negative due to its scales, keys, and other factors. However, looking at the lyrics the valence would change. "
   ]
  },
  {
   "cell_type": "code",
   "execution_count": 162,
   "id": "68094c89-cbac-4ed9-ade8-cfaec50f8ee8",
   "metadata": {},
   "outputs": [
    {
     "data": {
      "image/png": "[encoded data removed]",
      "text/plain": [
       "<Figure size 640x480 with 4 Axes>"
      ]
     },
     "metadata": {},
     "output_type": "display_data"
    }
   ],
   "source": [
    "fig1, ax1 = plt.subplots(2,2)\n",
    "plt.style.use('dark_background')\n",
    "ax1[0,1].hist(VxV['energy'], color = 'green')\n",
    "ax1[0,0].hist(IDMTHY['energy'], color = 'blue')\n",
    "ax1[1,1].hist(VxV['valence'], color = 'green')\n",
    "ax1[1,0].hist(IDMTHY['valence'], color = 'blue')\n",
    "plt.show()"
   ]
  },
  {
   "cell_type": "markdown",
   "id": "dbd7c0ad-5d0d-4705-b025-c62d488a2564",
   "metadata": {},
   "source": [
    "Here I use a scatter plot to compare the energy and valence of each album to itself.\n",
    "\n",
    "I tried to get the label to work, but I could not get it to function.\n",
    "\n",
    "What the plots are showing us is that in VxV the energy is much higher than the valence except for one outlier. The energy in IDMTHY is lower compared to the valence, which I think correlates since it is a sadder and slower album. Therefore Valence would be higher. "
   ]
  },
  {
   "cell_type": "code",
   "execution_count": 165,
   "id": "e564ac69-bccc-46d7-bea3-7a6fa4ae4370",
   "metadata": {},
   "outputs": [
    {
     "data": {
      "image/png": "[encoded data removed]",
      "text/plain": [
       "<Figure size 640x480 with 2 Axes>"
      ]
     },
     "metadata": {},
     "output_type": "display_data"
    }
   ],
   "source": [
    "fig2, ax2 = plt.subplots(2)\n",
    "plt.style.use('dark_background')\n",
    "ax2[1].scatter(VxV['energy'], VxV['valence'], color = 'green', label=\"VxV\")\n",
    "ax2[0].scatter(IDMTHY['energy'], IDMTHY['valence'], color = 'blue', label=\"IDMTHY\")\n",
    "plt.show()"
   ]
  },
  {
   "cell_type": "markdown",
   "id": "da3d3453-f16b-42ca-abec-39458cd694b8",
   "metadata": {},
   "source": [
    "Here I create one scatter plot of the two scatter plots above combined. I also add labels so it is easier to understand which data is which. This allows for a more complex and detailed comparison. The two albums do not intersect in their data much on the x-axis. Two outliers cross the x barrier between the data, but that is just one point. The conclusion I can draw from this data would be that these albums are very different in the emotions that they portray. Also, they are different in how they portray their emotions. VxV uses high energy to accent its messages, while conversely, IDMTHY uses slower and more relaxed tones to show its strong story and message. "
   ]
  },
  {
   "cell_type": "code",
   "execution_count": 146,
   "id": "22368bf3-6241-4b2c-a0be-3a5c0e6ca32d",
   "metadata": {},
   "outputs": [
    {
     "data": {
      "image/png": "[encoded data removed]",
      "text/plain": [
       "<Figure size 640x480 with 1 Axes>"
      ]
     },
     "metadata": {},
     "output_type": "display_data"
    }
   ],
   "source": [
    "fig3, ax3 = plt.subplots(1)\n",
    "plt.style.use('dark_background')\n",
    "ax3.scatter(VxV['energy'], VxV['valence'], color = 'Green', label=\"VxV\")\n",
    "ax3.scatter(IDMTHY['energy'], IDMTHY['valence'], color = 'Blue', label=\"IDMTHY\")\n",
    "ax3.set_title(\"Energy by Valence\")\n",
    "ax3.set_xlabel(\"Energy\")\n",
    "ax3.set_ylabel(\"Valence\")\n",
    "ax3.legend()\n",
    "plt.show()"
   ]
  },
  {
   "cell_type": "markdown",
   "id": "c36b7534-1913-4ffc-908a-4d5238b36bb1",
   "metadata": {},
   "source": [
    "I create a boxplot based on the energy of either game. The first one is the VxV energy and the second one is the IDMTHY energy. I chose energy because it is the most divided of the two variables I picked. VxV has extremely high energy compared to IDMTHY with only two outliers crossing the invisible barriers between the data. I believe the one track that crosses the barrier for VxV is not even a song but an audio that plays to begin the album. The IDMTHY track that crosses is the barrier is \"knots\" which makes sense since it is very similar to something you would here off of a Death Grips album. "
   ]
  },
  {
   "cell_type": "code",
   "execution_count": 156,
   "id": "afe8b78a-1367-4be8-9a39-048eb2270942",
   "metadata": {},
   "outputs": [
    {
     "data": {
      "image/png": "[encoded data removed]",
      "text/plain": [
       "<Figure size 640x480 with 1 Axes>"
      ]
     },
     "metadata": {},
     "output_type": "display_data"
    }
   ],
   "source": [
    "VxV_Energy = VxV['energy']\n",
    "IDMTHY_Energy = IDMTHY['energy']\n",
    "\n",
    "fig4, ax4 = plt.subplots()\n",
    "plt.style.use('dark_background')\n",
    "ax4.boxplot([VxV_Energy, IDMTHY_Energy])\n",
    "\n",
    "plt.show()"
   ]
  },
  {
   "cell_type": "markdown",
   "id": "57299c5d-1970-4587-90cc-aea019a3e15a",
   "metadata": {},
   "source": [
    "For the ols() I honestly do not understand it (probably because I was not at the class we went over it). I believe I did it right, but making the energy a continuous 'y' variable and comparing it to energy. I made a scatterplot out of the regression results to try and visually understand it, but I am still confused. I thought it would be best to be honest instead of putting up a fake understanding. "
   ]
  },
  {
   "cell_type": "code",
   "execution_count": 158,
   "id": "ea7abc58-3d7d-4207-924d-d8e4bf227ca0",
   "metadata": {},
   "outputs": [],
   "source": [
    "fit1 = smf.ols('energy ~ valence', data = ces).fit()"
   ]
  },
  {
   "cell_type": "code",
   "execution_count": 159,
   "id": "9c61edb7-0219-44fe-bc37-911f5287e06c",
   "metadata": {},
   "outputs": [
    {
     "data": {
      "text/html": [
       "<table class=\"simpletable\">\n",
       "<caption>OLS Regression Results</caption>\n",
       "<tr>\n",
       "  <th>Dep. Variable:</th>         <td>energy</td>      <th>  R-squared:         </th> <td>   0.071</td>\n",
       "</tr>\n",
       "<tr>\n",
       "  <th>Model:</th>                   <td>OLS</td>       <th>  Adj. R-squared:    </th> <td>   0.027</td>\n",
       "</tr>\n",
       "<tr>\n",
       "  <th>Method:</th>             <td>Least Squares</td>  <th>  F-statistic:       </th> <td>   1.617</td>\n",
       "</tr>\n",
       "<tr>\n",
       "  <th>Date:</th>             <td>Fri, 22 Nov 2024</td> <th>  Prob (F-statistic):</th>  <td> 0.217</td> \n",
       "</tr>\n",
       "<tr>\n",
       "  <th>Time:</th>                 <td>15:35:12</td>     <th>  Log-Likelihood:    </th> <td> -3.0089</td>\n",
       "</tr>\n",
       "<tr>\n",
       "  <th>No. Observations:</th>      <td>    23</td>      <th>  AIC:               </th> <td>   10.02</td>\n",
       "</tr>\n",
       "<tr>\n",
       "  <th>Df Residuals:</th>          <td>    21</td>      <th>  BIC:               </th> <td>   12.29</td>\n",
       "</tr>\n",
       "<tr>\n",
       "  <th>Df Model:</th>              <td>     1</td>      <th>                     </th>     <td> </td>   \n",
       "</tr>\n",
       "<tr>\n",
       "  <th>Covariance Type:</th>      <td>nonrobust</td>    <th>                     </th>     <td> </td>   \n",
       "</tr>\n",
       "</table>\n",
       "<table class=\"simpletable\">\n",
       "<tr>\n",
       "      <td></td>         <th>coef</th>     <th>std err</th>      <th>t</th>      <th>P>|t|</th>  <th>[0.025</th>    <th>0.975]</th>  \n",
       "</tr>\n",
       "<tr>\n",
       "  <th>Intercept</th> <td>    0.5818</td> <td>    0.115</td> <td>    5.079</td> <td> 0.000</td> <td>    0.344</td> <td>    0.820</td>\n",
       "</tr>\n",
       "<tr>\n",
       "  <th>valence</th>   <td>    0.6824</td> <td>    0.537</td> <td>    1.272</td> <td> 0.217</td> <td>   -0.434</td> <td>    1.799</td>\n",
       "</tr>\n",
       "</table>\n",
       "<table class=\"simpletable\">\n",
       "<tr>\n",
       "  <th>Omnibus:</th>       <td>17.300</td> <th>  Durbin-Watson:     </th> <td>   0.634</td>\n",
       "</tr>\n",
       "<tr>\n",
       "  <th>Prob(Omnibus):</th> <td> 0.000</td> <th>  Jarque-Bera (JB):  </th> <td>   2.619</td>\n",
       "</tr>\n",
       "<tr>\n",
       "  <th>Skew:</th>          <td> 0.059</td> <th>  Prob(JB):          </th> <td>   0.270</td>\n",
       "</tr>\n",
       "<tr>\n",
       "  <th>Kurtosis:</th>      <td> 1.351</td> <th>  Cond. No.          </th> <td>    9.22</td>\n",
       "</tr>\n",
       "</table><br/><br/>Notes:<br/>[1] Standard Errors assume that the covariance matrix of the errors is correctly specified."
      ],
      "text/latex": [
       "\\begin{center}\n",
       "\\begin{tabular}{lclc}\n",
       "\\toprule\n",
       "\\textbf{Dep. Variable:}    &      energy      & \\textbf{  R-squared:         } &     0.071   \\\\\n",
       "\\textbf{Model:}            &       OLS        & \\textbf{  Adj. R-squared:    } &     0.027   \\\\\n",
       "\\textbf{Method:}           &  Least Squares   & \\textbf{  F-statistic:       } &     1.617   \\\\\n",
       "\\textbf{Date:}             & Fri, 22 Nov 2024 & \\textbf{  Prob (F-statistic):} &    0.217    \\\\\n",
       "\\textbf{Time:}             &     15:35:12     & \\textbf{  Log-Likelihood:    } &   -3.0089   \\\\\n",
       "\\textbf{No. Observations:} &          23      & \\textbf{  AIC:               } &     10.02   \\\\\n",
       "\\textbf{Df Residuals:}     &          21      & \\textbf{  BIC:               } &     12.29   \\\\\n",
       "\\textbf{Df Model:}         &           1      & \\textbf{                     } &             \\\\\n",
       "\\textbf{Covariance Type:}  &    nonrobust     & \\textbf{                     } &             \\\\\n",
       "\\bottomrule\n",
       "\\end{tabular}\n",
       "\\begin{tabular}{lcccccc}\n",
       "                   & \\textbf{coef} & \\textbf{std err} & \\textbf{t} & \\textbf{P$> |$t$|$} & \\textbf{[0.025} & \\textbf{0.975]}  \\\\\n",
       "\\midrule\n",
       "\\textbf{Intercept} &       0.5818  &        0.115     &     5.079  &         0.000        &        0.344    &        0.820     \\\\\n",
       "\\textbf{valence}   &       0.6824  &        0.537     &     1.272  &         0.217        &       -0.434    &        1.799     \\\\\n",
       "\\bottomrule\n",
       "\\end{tabular}\n",
       "\\begin{tabular}{lclc}\n",
       "\\textbf{Omnibus:}       & 17.300 & \\textbf{  Durbin-Watson:     } &    0.634  \\\\\n",
       "\\textbf{Prob(Omnibus):} &  0.000 & \\textbf{  Jarque-Bera (JB):  } &    2.619  \\\\\n",
       "\\textbf{Skew:}          &  0.059 & \\textbf{  Prob(JB):          } &    0.270  \\\\\n",
       "\\textbf{Kurtosis:}      &  1.351 & \\textbf{  Cond. No.          } &     9.22  \\\\\n",
       "\\bottomrule\n",
       "\\end{tabular}\n",
       "%\\caption{OLS Regression Results}\n",
       "\\end{center}\n",
       "\n",
       "Notes: \\newline\n",
       " [1] Standard Errors assume that the covariance matrix of the errors is correctly specified."
      ],
      "text/plain": [
       "<class 'statsmodels.iolib.summary.Summary'>\n",
       "\"\"\"\n",
       "                            OLS Regression Results                            \n",
       "==============================================================================\n",
       "Dep. Variable:                 energy   R-squared:                       0.071\n",
       "Model:                            OLS   Adj. R-squared:                  0.027\n",
       "Method:                 Least Squares   F-statistic:                     1.617\n",
       "Date:                Fri, 22 Nov 2024   Prob (F-statistic):              0.217\n",
       "Time:                        15:35:12   Log-Likelihood:                -3.0089\n",
       "No. Observations:                  23   AIC:                             10.02\n",
       "Df Residuals:                      21   BIC:                             12.29\n",
       "Df Model:                           1                                         \n",
       "Covariance Type:            nonrobust                                         \n",
       "==============================================================================\n",
       "                 coef    std err          t      P>|t|      [0.025      0.975]\n",
       "------------------------------------------------------------------------------\n",
       "Intercept      0.5818      0.115      5.079      0.000       0.344       0.820\n",
       "valence        0.6824      0.537      1.272      0.217      -0.434       1.799\n",
       "==============================================================================\n",
       "Omnibus:                       17.300   Durbin-Watson:                   0.634\n",
       "Prob(Omnibus):                  0.000   Jarque-Bera (JB):                2.619\n",
       "Skew:                           0.059   Prob(JB):                        0.270\n",
       "Kurtosis:                       1.351   Cond. No.                         9.22\n",
       "==============================================================================\n",
       "\n",
       "Notes:\n",
       "[1] Standard Errors assume that the covariance matrix of the errors is correctly specified.\n",
       "\"\"\""
      ]
     },
     "execution_count": 159,
     "metadata": {},
     "output_type": "execute_result"
    }
   ],
   "source": [
    "fit1.summary()"
   ]
  },
  {
   "cell_type": "code",
   "execution_count": 161,
   "id": "41150465-a5d0-464a-939e-bbe4b2ddbaa4",
   "metadata": {},
   "outputs": [
    {
     "data": {
      "image/png": "[encoded data removed]",
      "text/plain": [
       "<Figure size 640x480 with 1 Axes>"
      ]
     },
     "metadata": {},
     "output_type": "display_data"
    }
   ],
   "source": [
    "fig5, ax5 = plt.subplots()\n",
    "ax5.scatter(ces['valence'], ces['energy'])\n",
    "plt.show()"
   ]
  },
  {
   "cell_type": "markdown",
   "id": "e1aed08f-2c4a-43a8-bccc-1281a75d6884",
   "metadata": {},
   "source": [
    "In conclusion, the energy of VxV is much higher than the energy of IDMTHY. This is due to it being a metal album with louder mixing, faster tempos, and dirty vocals. IDMTHY is a sadder album with slower tempos and lower energy overall. The valence, through data, is more comparable. They tend to cross the same line and be in the same area on the y-axis, but the energy divides them on the x-axis. \n",
    "\n",
    "I think the data does not fully show the correct valence for VxV and that is a limitation of the API. The lyrics of VxV are much more positive compared to the sound of the album. If the album is only reading the audio data and not the lyrics then that would make sense that it draws this conclusion. I think the alternative approach would be designing an API that tracks the lyricism. For me specifically, I could analyze the lyrics personally and define the positivity of the lyrics in VxV compared to IDMTHY. I am honestly not sure how I would do this, but I after a quick search I found some lyric analyzer APIs that I could add to a future project. "
   ]
  },
  {
   "cell_type": "code",
   "execution_count": null,
   "id": "7d3faca7-37dd-4e5a-9b19-93c635a610d0",
   "metadata": {},
   "outputs": [],
   "source": []
  }
 ],
 "metadata": {
  "kernelspec": {
   "display_name": "Python 3 (ipykernel)",
   "language": "python",
   "name": "python3"
  },
  "language_info": {
   "codemirror_mode": {
    "name": "ipython",
    "version": 3
   },
   "file_extension": ".py",
   "mimetype": "text/x-python",
   "name": "python",
   "nbconvert_exporter": "python",
   "pygments_lexer": "ipython3",
   "version": "3.12.4"
  }
 },
 "nbformat": 4,
 "nbformat_minor": 5
}
