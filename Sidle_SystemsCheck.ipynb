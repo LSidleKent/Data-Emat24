{
 "cells": [
  {
   "cell_type": "markdown",
   "id": "78bdbc5a-0ce3-47a7-8ee2-253b60a51ead",
   "metadata": {},
   "source": [
    "# Systems Check\n",
    "## Luke Sidle\n",
    "### 8/22/2024\n",
    "\n",
    "In this class, I want to learn __Python__. I think coding and data are interesting, so I think I will _enjoy_ this course. So my hopes are:\n",
    "1. Learn Python\n",
    "2. Enjoy the class\n",
    "\n",
    "again my hopes are:\n",
    "- Learn Python\n",
    "- Enjoy the class\n",
    "\n",
    "Now here is my favorite character Monkey D. Luffy\n",
    "\n",
    "![Luffy](https://static.wikia.nocookie.net/onepiece/images/d/d8/Monkey_D._Luffy_Manga_Post_Timeskip_Infobox.png)"
   ]
  },
  {
   "cell_type": "code",
   "execution_count": null,
   "id": "163edaf4-5af5-4349-8149-5f97ac22d82d",
   "metadata": {},
   "outputs": [],
   "source": []
  }
 ],
 "metadata": {
  "kernelspec": {
   "display_name": "Python 3 (ipykernel)",
   "language": "python",
   "name": "python3"
  },
  "language_info": {
   "codemirror_mode": {
    "name": "ipython",
    "version": 3
   },
   "file_extension": ".py",
   "mimetype": "text/x-python",
   "name": "python",
   "nbconvert_exporter": "python",
   "pygments_lexer": "ipython3",
   "version": "3.12.4"
  }
 },
 "nbformat": 4,
 "nbformat_minor": 5
}
